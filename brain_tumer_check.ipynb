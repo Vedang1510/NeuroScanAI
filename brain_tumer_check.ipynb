{
  "nbformat": 4,
  "nbformat_minor": 0,
  "metadata": {
    "colab": {
      "provenance": [],
      "authorship_tag": "ABX9TyOajVrRsYwY6Em+SOXVB3m0",
      "include_colab_link": true
    },
    "kernelspec": {
      "name": "python3",
      "display_name": "Python 3"
    },
    "language_info": {
      "name": "python"
    }
  },
  "cells": [
    {
      "cell_type": "markdown",
      "metadata": {
        "id": "view-in-github",
        "colab_type": "text"
      },
      "source": [
        "<a href=\"https://colab.research.google.com/github/Vedang1510/NeuroScanAI/blob/main/brain_tumer_check.ipynb\" target=\"_parent\"><img src=\"https://colab.research.google.com/assets/colab-badge.svg\" alt=\"Open In Colab\"/></a>"
      ]
    },
    {
      "cell_type": "markdown",
      "source": [
        "Libraries to import"
      ],
      "metadata": {
        "id": "LJanguAkRuGv"
      }
    },
    {
      "cell_type": "code",
      "source": [
        "import numpy as np  # linear algebra\n",
        "import pandas as pd # data processing csv file I/O\n",
        "\n",
        "import keras\n",
        "from keras.models import Sequential # sequencial data\n",
        "from keras.layers import Conv2D, Flatten, Dense, MaxPooling2D, Dropout # hidden layers between I/O\n",
        "# conv2D : create convolutional 2D neural network\n",
        "# Flatten : convert 2D matrix into 1D array\n",
        "# Dense : It is used for processing\n",
        "# MaxPooling2D : works hand in hand with canv2D\n",
        "# Dropout : Removes useless features\n",
        "\n",
        "#inport Accuracy score\n",
        "from sklearn.metrics import accuracy_score\n",
        "\n",
        "import ipywidgets # required for classification\n",
        "import io # input / output\n",
        "import tqdm\n",
        "from PIL import Image # PIL : Public Image Library\n",
        "\n",
        "from sklearn.model_selection import train_test_split # for dividing tests\n",
        "import cv2 # deals with images\n",
        "from sklearn.utils import shuffle\n",
        "\n",
        "import tensorflow as tf #to use all the above library properly"
      ],
      "metadata": {
        "id": "swqPcEmVR3UJ"
      },
      "execution_count": 3,
      "outputs": []
    }
  ]
}